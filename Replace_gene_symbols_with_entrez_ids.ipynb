{
 "cells": [
  {
   "cell_type": "markdown",
   "metadata": {},
   "source": [
    "## Replace gene symbols with NCBI entrez IDs all over the data frame"
   ]
  },
  {
   "cell_type": "markdown",
   "metadata": {},
   "source": [
    "#### Load the data"
   ]
  },
  {
   "cell_type": "code",
   "execution_count": 11,
   "metadata": {},
   "outputs": [
    {
     "data": {
      "text/html": [
       "<table>\n",
       "<thead><tr><th scope=col>V1</th><th scope=col>V2</th><th scope=col>V3</th><th scope=col>V4</th><th scope=col>V5</th><th scope=col>V6</th><th scope=col>V7</th><th scope=col>V8</th><th scope=col>V9</th><th scope=col>V10</th><th scope=col>V11</th><th scope=col>V12</th></tr></thead>\n",
       "<tbody>\n",
       "\t<tr><td>ACEVEDO_LIVER_CANCER_WITH_H3K9ME3_UP            </td><td>ABCA13                                          </td><td>ABCB5                                           </td><td>AK5                                             </td><td>AMOTL1                                          </td><td>ANGPTL5                                         </td><td>ANK2                                            </td><td>ARHGAP18                                        </td><td>ARMC3                                           </td><td>B3GNT2                                          </td><td>BMPER                                           </td><td>C1orf88                                         </td></tr>\n",
       "\t<tr><td>ACEVEDO_METHYLATED_IN_LIVER_CANCER_DN           </td><td>A2ML1                                           </td><td>ABCA11P                                         </td><td>ABCC8                                           </td><td>ABO                                             </td><td>ACCN2                                           </td><td>ACSL1                                           </td><td>ACSS3                                           </td><td>ADAD1                                           </td><td>ADAM11                                          </td><td>ADAM2                                           </td><td>ADAM5P                                          </td></tr>\n",
       "\t<tr><td>ACEVEDO_NORMAL_TISSUE_ADJACENT_TO_LIVER_TUMOR_DN</td><td>AARS                                            </td><td>ABCC2                                           </td><td>ABHD10                                          </td><td>ABHD14B                                         </td><td>ABHD6                                           </td><td>ACADSB                                          </td><td>ACAT2                                           </td><td>ACTG1                                           </td><td>ADH4                                            </td><td>ADH6                                            </td><td>ADI1                                            </td></tr>\n",
       "\t<tr><td>ACTGCAG_MIR173P                                 </td><td>ACACA                                           </td><td>ACTR1A                                          </td><td>ANKRD50                                         </td><td>ARID2                                           </td><td>ARMC8                                           </td><td>BCORL1                                          </td><td>BRWD3                                           </td><td>BTF3                                            </td><td>C20orf20                                        </td><td>CACNA2D4                                        </td><td>CAMK2D                                          </td></tr>\n",
       "\t<tr><td>ACTGCCT_MIR34B                                  </td><td>ABCC1                                           </td><td>ACACA                                           </td><td>ACSL1                                           </td><td>ACTL6A                                          </td><td>ACTR1A                                          </td><td>ADCY2                                           </td><td>ADORA2A                                         </td><td>AHCYL2                                          </td><td>AKAP1                                           </td><td>ALCAM                                           </td><td>ANGPTL7                                         </td></tr>\n",
       "\t<tr><td>ACTGTAG_MIR139                                  </td><td>AEBP2                                           </td><td>AKIRIN2                                         </td><td>ANK2                                            </td><td>AP1S2                                           </td><td>AP3M1                                           </td><td>APLP2                                           </td><td>ARRDC3                                          </td><td>ATP2B2                                          </td><td>ATRX                                            </td><td>ATXN1                                           </td><td>AUTS2                                           </td></tr>\n",
       "\t<tr><td>ACTGTGA_MIR27A_MIR27B                           </td><td>ABCA1                                           </td><td>ABCB9                                           </td><td>ACOT11                                          </td><td>ACVR1                                           </td><td>ACVR2A                                          </td><td>ADAM19                                          </td><td>ADAMTS10                                        </td><td>ADCY3                                           </td><td>ADCY6                                           </td><td>ADORA2B                                         </td><td>AFAP1                                           </td></tr>\n",
       "\t<tr><td>AFP1_Q6                                         </td><td>AARS2                                           </td><td>ABLIM1                                          </td><td>ACVR1B                                          </td><td>ADAM11                                          </td><td>AFF3                                            </td><td>AGL                                             </td><td>ANKRD28                                         </td><td>ANKRD39                                         </td><td>ANKS1B                                          </td><td>ARHGDIB                                         </td><td>ARL3                                            </td></tr>\n",
       "\t<tr><td>AGGCACT_MIR5153P                                </td><td>ARHGEF12                                        </td><td>ARIH1                                           </td><td>ARL4C                                           </td><td>BAZ1B                                           </td><td>BAZ2A                                           </td><td>BCOR                                            </td><td>BICD2                                           </td><td>BTBD3                                           </td><td>C10orf140                                       </td><td>C11orf87                                        </td><td>C14orf45                                        </td></tr>\n",
       "\t<tr><td>AGGTGCA_MIR500                                  </td><td>ABCC4                                           </td><td>ADAMTSL3                                        </td><td>ANKRD13A                                        </td><td>ATL1                                            </td><td>B4GALNT3                                        </td><td>BTBD11                                          </td><td>C17orf74                                        </td><td>C5orf30                                         </td><td>CA10                                            </td><td>CACNB1                                          </td><td>CAMK4                                           </td></tr>\n",
       "</tbody>\n",
       "</table>\n"
      ],
      "text/latex": [
       "\\begin{tabular}{r|llllllllllll}\n",
       " V1 & V2 & V3 & V4 & V5 & V6 & V7 & V8 & V9 & V10 & V11 & V12\\\\\n",
       "\\hline\n",
       "\t ACEVEDO\\_LIVER\\_CANCER\\_WITH\\_H3K9ME3\\_UP             & ABCA13                                                     & ABCB5                                                      & AK5                                                        & AMOTL1                                                     & ANGPTL5                                                    & ANK2                                                       & ARHGAP18                                                   & ARMC3                                                      & B3GNT2                                                     & BMPER                                                      & C1orf88                                                   \\\\\n",
       "\t ACEVEDO\\_METHYLATED\\_IN\\_LIVER\\_CANCER\\_DN            & A2ML1                                                      & ABCA11P                                                    & ABCC8                                                      & ABO                                                        & ACCN2                                                      & ACSL1                                                      & ACSS3                                                      & ADAD1                                                      & ADAM11                                                     & ADAM2                                                      & ADAM5P                                                    \\\\\n",
       "\t ACEVEDO\\_NORMAL\\_TISSUE\\_ADJACENT\\_TO\\_LIVER\\_TUMOR\\_DN & AARS                                                           & ABCC2                                                          & ABHD10                                                         & ABHD14B                                                        & ABHD6                                                          & ACADSB                                                         & ACAT2                                                          & ACTG1                                                          & ADH4                                                           & ADH6                                                           & ADI1                                                          \\\\\n",
       "\t ACTGCAG\\_MIR173P                                  & ACACA                                              & ACTR1A                                             & ANKRD50                                            & ARID2                                              & ARMC8                                              & BCORL1                                             & BRWD3                                              & BTF3                                               & C20orf20                                           & CACNA2D4                                           & CAMK2D                                            \\\\\n",
       "\t ACTGCCT\\_MIR34B                                   & ABCC1                                              & ACACA                                              & ACSL1                                              & ACTL6A                                             & ACTR1A                                             & ADCY2                                              & ADORA2A                                            & AHCYL2                                             & AKAP1                                              & ALCAM                                              & ANGPTL7                                           \\\\\n",
       "\t ACTGTAG\\_MIR139                                   & AEBP2                                              & AKIRIN2                                            & ANK2                                               & AP1S2                                              & AP3M1                                              & APLP2                                              & ARRDC3                                             & ATP2B2                                             & ATRX                                               & ATXN1                                              & AUTS2                                             \\\\\n",
       "\t ACTGTGA\\_MIR27A\\_MIR27B                            & ABCA1                                                & ABCB9                                                & ACOT11                                               & ACVR1                                                & ACVR2A                                               & ADAM19                                               & ADAMTS10                                             & ADCY3                                                & ADCY6                                                & ADORA2B                                              & AFAP1                                               \\\\\n",
       "\t AFP1\\_Q6                                          & AARS2                                              & ABLIM1                                             & ACVR1B                                             & ADAM11                                             & AFF3                                               & AGL                                                & ANKRD28                                            & ANKRD39                                            & ANKS1B                                             & ARHGDIB                                            & ARL3                                              \\\\\n",
       "\t AGGCACT\\_MIR5153P                                 & ARHGEF12                                           & ARIH1                                              & ARL4C                                              & BAZ1B                                              & BAZ2A                                              & BCOR                                               & BICD2                                              & BTBD3                                              & C10orf140                                          & C11orf87                                           & C14orf45                                          \\\\\n",
       "\t AGGTGCA\\_MIR500                                   & ABCC4                                              & ADAMTSL3                                           & ANKRD13A                                           & ATL1                                               & B4GALNT3                                           & BTBD11                                             & C17orf74                                           & C5orf30                                            & CA10                                               & CACNB1                                             & CAMK4                                             \\\\\n",
       "\\end{tabular}\n"
      ],
      "text/markdown": [
       "\n",
       "V1 | V2 | V3 | V4 | V5 | V6 | V7 | V8 | V9 | V10 | V11 | V12 | \n",
       "|---|---|---|---|---|---|---|---|---|---|\n",
       "| ACEVEDO_LIVER_CANCER_WITH_H3K9ME3_UP             | ABCA13                                           | ABCB5                                            | AK5                                              | AMOTL1                                           | ANGPTL5                                          | ANK2                                             | ARHGAP18                                         | ARMC3                                            | B3GNT2                                           | BMPER                                            | C1orf88                                          | \n",
       "| ACEVEDO_METHYLATED_IN_LIVER_CANCER_DN            | A2ML1                                            | ABCA11P                                          | ABCC8                                            | ABO                                              | ACCN2                                            | ACSL1                                            | ACSS3                                            | ADAD1                                            | ADAM11                                           | ADAM2                                            | ADAM5P                                           | \n",
       "| ACEVEDO_NORMAL_TISSUE_ADJACENT_TO_LIVER_TUMOR_DN | AARS                                             | ABCC2                                            | ABHD10                                           | ABHD14B                                          | ABHD6                                            | ACADSB                                           | ACAT2                                            | ACTG1                                            | ADH4                                             | ADH6                                             | ADI1                                             | \n",
       "| ACTGCAG_MIR173P                                  | ACACA                                            | ACTR1A                                           | ANKRD50                                          | ARID2                                            | ARMC8                                            | BCORL1                                           | BRWD3                                            | BTF3                                             | C20orf20                                         | CACNA2D4                                         | CAMK2D                                           | \n",
       "| ACTGCCT_MIR34B                                   | ABCC1                                            | ACACA                                            | ACSL1                                            | ACTL6A                                           | ACTR1A                                           | ADCY2                                            | ADORA2A                                          | AHCYL2                                           | AKAP1                                            | ALCAM                                            | ANGPTL7                                          | \n",
       "| ACTGTAG_MIR139                                   | AEBP2                                            | AKIRIN2                                          | ANK2                                             | AP1S2                                            | AP3M1                                            | APLP2                                            | ARRDC3                                           | ATP2B2                                           | ATRX                                             | ATXN1                                            | AUTS2                                            | \n",
       "| ACTGTGA_MIR27A_MIR27B                            | ABCA1                                            | ABCB9                                            | ACOT11                                           | ACVR1                                            | ACVR2A                                           | ADAM19                                           | ADAMTS10                                         | ADCY3                                            | ADCY6                                            | ADORA2B                                          | AFAP1                                            | \n",
       "| AFP1_Q6                                          | AARS2                                            | ABLIM1                                           | ACVR1B                                           | ADAM11                                           | AFF3                                             | AGL                                              | ANKRD28                                          | ANKRD39                                          | ANKS1B                                           | ARHGDIB                                          | ARL3                                             | \n",
       "| AGGCACT_MIR5153P                                 | ARHGEF12                                         | ARIH1                                            | ARL4C                                            | BAZ1B                                            | BAZ2A                                            | BCOR                                             | BICD2                                            | BTBD3                                            | C10orf140                                        | C11orf87                                         | C14orf45                                         | \n",
       "| AGGTGCA_MIR500                                   | ABCC4                                            | ADAMTSL3                                         | ANKRD13A                                         | ATL1                                             | B4GALNT3                                         | BTBD11                                           | C17orf74                                         | C5orf30                                          | CA10                                             | CACNB1                                           | CAMK4                                            | \n",
       "\n",
       "\n"
      ],
      "text/plain": [
       "   V1                                               V2       V3       V4      \n",
       "1  ACEVEDO_LIVER_CANCER_WITH_H3K9ME3_UP             ABCA13   ABCB5    AK5     \n",
       "2  ACEVEDO_METHYLATED_IN_LIVER_CANCER_DN            A2ML1    ABCA11P  ABCC8   \n",
       "3  ACEVEDO_NORMAL_TISSUE_ADJACENT_TO_LIVER_TUMOR_DN AARS     ABCC2    ABHD10  \n",
       "4  ACTGCAG_MIR173P                                  ACACA    ACTR1A   ANKRD50 \n",
       "5  ACTGCCT_MIR34B                                   ABCC1    ACACA    ACSL1   \n",
       "6  ACTGTAG_MIR139                                   AEBP2    AKIRIN2  ANK2    \n",
       "7  ACTGTGA_MIR27A_MIR27B                            ABCA1    ABCB9    ACOT11  \n",
       "8  AFP1_Q6                                          AARS2    ABLIM1   ACVR1B  \n",
       "9  AGGCACT_MIR5153P                                 ARHGEF12 ARIH1    ARL4C   \n",
       "10 AGGTGCA_MIR500                                   ABCC4    ADAMTSL3 ANKRD13A\n",
       "   V5      V6       V7     V8       V9      V10       V11      V12     \n",
       "1  AMOTL1  ANGPTL5  ANK2   ARHGAP18 ARMC3   B3GNT2    BMPER    C1orf88 \n",
       "2  ABO     ACCN2    ACSL1  ACSS3    ADAD1   ADAM11    ADAM2    ADAM5P  \n",
       "3  ABHD14B ABHD6    ACADSB ACAT2    ACTG1   ADH4      ADH6     ADI1    \n",
       "4  ARID2   ARMC8    BCORL1 BRWD3    BTF3    C20orf20  CACNA2D4 CAMK2D  \n",
       "5  ACTL6A  ACTR1A   ADCY2  ADORA2A  AHCYL2  AKAP1     ALCAM    ANGPTL7 \n",
       "6  AP1S2   AP3M1    APLP2  ARRDC3   ATP2B2  ATRX      ATXN1    AUTS2   \n",
       "7  ACVR1   ACVR2A   ADAM19 ADAMTS10 ADCY3   ADCY6     ADORA2B  AFAP1   \n",
       "8  ADAM11  AFF3     AGL    ANKRD28  ANKRD39 ANKS1B    ARHGDIB  ARL3    \n",
       "9  BAZ1B   BAZ2A    BCOR   BICD2    BTBD3   C10orf140 C11orf87 C14orf45\n",
       "10 ATL1    B4GALNT3 BTBD11 C17orf74 C5orf30 CA10      CACNB1   CAMK4   "
      ]
     },
     "metadata": {},
     "output_type": "display_data"
    }
   ],
   "source": [
    "df=read.csv(\"gs.txt\", sep=\"\\t\", header = F, stringsAsFactors = F, strip.white = T)\n",
    "df"
   ]
  },
  {
   "cell_type": "markdown",
   "metadata": {},
   "source": [
    "#### Extract the unique gene list and store it"
   ]
  },
  {
   "cell_type": "code",
   "execution_count": 12,
   "metadata": {},
   "outputs": [],
   "source": [
    "library(tidyr)\n",
    "gene_list=unique(sort(gather(df[-1],\"\",\"genes\")$genes))"
   ]
  },
  {
   "cell_type": "markdown",
   "metadata": {},
   "source": [
    "#### Get the values using biomart service"
   ]
  },
  {
   "cell_type": "code",
   "execution_count": 13,
   "metadata": {},
   "outputs": [],
   "source": [
    "library(biomaRt)\n",
    "mart <- useMart(biomart = \"ensembl\", dataset = \"hsapiens_gene_ensembl\")\n",
    "test=getBM(attributes = c(\"hgnc_symbol\", \"entrezgene\"), filters = \"hgnc_symbol\", values = gene_list, bmHeader = T, mart = mart)"
   ]
  },
  {
   "cell_type": "markdown",
   "metadata": {},
   "source": [
    "#### Change the column names and change the type of the object from factor to character"
   ]
  },
  {
   "cell_type": "code",
   "execution_count": 14,
   "metadata": {},
   "outputs": [],
   "source": [
    "colnames(test)=c(\"hgnc_symbol\",\"ncbi_gene_id\")\n",
    "test$ncbi_gene_id=as.character(test$ncbi_gene_id)"
   ]
  },
  {
   "cell_type": "markdown",
   "metadata": {},
   "source": [
    "#### Now let us replace the values using forcats library. Before that let us create a new dataframe from old data frame so that old data is not over written."
   ]
  },
  {
   "cell_type": "code",
   "execution_count": 15,
   "metadata": {},
   "outputs": [
    {
     "data": {
      "text/html": [
       "<table>\n",
       "<thead><tr><th scope=col>V1</th><th scope=col>V2</th><th scope=col>V3</th><th scope=col>V4</th><th scope=col>V5</th><th scope=col>V6</th><th scope=col>V7</th><th scope=col>V8</th><th scope=col>V9</th><th scope=col>V10</th><th scope=col>V11</th><th scope=col>V12</th></tr></thead>\n",
       "<tbody>\n",
       "\t<tr><td>ACEVEDO_LIVER_CANCER_WITH_H3K9ME3_UP            </td><td>154664                                          </td><td>340273                                          </td><td>26289                                           </td><td>154810                                          </td><td>253935                                          </td><td>287                                             </td><td>93663                                           </td><td>219681                                          </td><td>10678                                           </td><td>168667                                          </td><td>NA                                              </td></tr>\n",
       "\t<tr><td>ACEVEDO_METHYLATED_IN_LIVER_CANCER_DN           </td><td>144568                                          </td><td>NA                                              </td><td>6833                                            </td><td>28                                              </td><td>NA                                              </td><td>2180                                            </td><td>79611                                           </td><td>132612                                          </td><td>4185                                            </td><td>2515                                            </td><td>NA                                              </td></tr>\n",
       "\t<tr><td>ACEVEDO_NORMAL_TISSUE_ADJACENT_TO_LIVER_TUMOR_DN</td><td>16                                              </td><td>1244                                            </td><td>55347                                           </td><td>84836                                           </td><td>57406                                           </td><td>36                                              </td><td>39                                              </td><td>71                                              </td><td>127                                             </td><td>130                                             </td><td>55256                                           </td></tr>\n",
       "\t<tr><td>ACTGCAG_MIR173P                                 </td><td>31                                              </td><td>10121                                           </td><td>57182                                           </td><td>196528                                          </td><td>25852                                           </td><td>63035                                           </td><td>254065                                          </td><td>689                                             </td><td>NA                                              </td><td>93589                                           </td><td>817                                             </td></tr>\n",
       "\t<tr><td>ACTGCCT_MIR34B                                  </td><td>4363                                            </td><td>31                                              </td><td>2180                                            </td><td>86                                              </td><td>10121                                           </td><td>108                                             </td><td>135                                             </td><td>23382                                           </td><td>8165                                            </td><td>214                                             </td><td>10218                                           </td></tr>\n",
       "\t<tr><td>ACTGTAG_MIR139                                  </td><td>121536                                          </td><td>55122                                           </td><td>287                                             </td><td>8905                                            </td><td>26985                                           </td><td>334                                             </td><td>57561                                           </td><td>491                                             </td><td>546                                             </td><td>6310                                            </td><td>26053                                           </td></tr>\n",
       "\t<tr><td>ACTGTGA_MIR27A_MIR27B                           </td><td>19                                              </td><td>23457                                           </td><td>26027                                           </td><td>90                                              </td><td>92                                              </td><td>8728                                            </td><td>81794                                           </td><td>109                                             </td><td>112                                             </td><td>136                                             </td><td>60312                                           </td></tr>\n",
       "\t<tr><td>AFP1_Q6                                         </td><td>57505                                           </td><td>3983                                            </td><td>91                                              </td><td>4185                                            </td><td>3899                                            </td><td>178                                             </td><td>23243                                           </td><td>51239                                           </td><td>56899                                           </td><td>397                                             </td><td>403                                             </td></tr>\n",
       "\t<tr><td>AGGCACT_MIR5153P                                </td><td>23365                                           </td><td>25820                                           </td><td>10123                                           </td><td>9031                                            </td><td>11176                                           </td><td>54880                                           </td><td>23299                                           </td><td>22903                                           </td><td>NA                                              </td><td>399947                                          </td><td>NA                                              </td></tr>\n",
       "\t<tr><td>AGGTGCA_MIR500                                  </td><td>10257                                           </td><td>57188                                           </td><td>88455                                           </td><td>51062                                           </td><td>283358                                          </td><td>121551                                          </td><td>NA                                              </td><td>90355                                           </td><td>56934                                           </td><td>782                                             </td><td>814                                             </td></tr>\n",
       "</tbody>\n",
       "</table>\n"
      ],
      "text/latex": [
       "\\begin{tabular}{r|llllllllllll}\n",
       " V1 & V2 & V3 & V4 & V5 & V6 & V7 & V8 & V9 & V10 & V11 & V12\\\\\n",
       "\\hline\n",
       "\t ACEVEDO\\_LIVER\\_CANCER\\_WITH\\_H3K9ME3\\_UP             & 154664                                                     & 340273                                                     & 26289                                                      & 154810                                                     & 253935                                                     & 287                                                        & 93663                                                      & 219681                                                     & 10678                                                      & 168667                                                     & NA                                                        \\\\\n",
       "\t ACEVEDO\\_METHYLATED\\_IN\\_LIVER\\_CANCER\\_DN            & 144568                                                     & NA                                                         & 6833                                                       & 28                                                         & NA                                                         & 2180                                                       & 79611                                                      & 132612                                                     & 4185                                                       & 2515                                                       & NA                                                        \\\\\n",
       "\t ACEVEDO\\_NORMAL\\_TISSUE\\_ADJACENT\\_TO\\_LIVER\\_TUMOR\\_DN & 16                                                             & 1244                                                           & 55347                                                          & 84836                                                          & 57406                                                          & 36                                                             & 39                                                             & 71                                                             & 127                                                            & 130                                                            & 55256                                                         \\\\\n",
       "\t ACTGCAG\\_MIR173P                                  & 31                                                 & 10121                                              & 57182                                              & 196528                                             & 25852                                              & 63035                                              & 254065                                             & 689                                                & NA                                                 & 93589                                              & 817                                               \\\\\n",
       "\t ACTGCCT\\_MIR34B                                   & 4363                                               & 31                                                 & 2180                                               & 86                                                 & 10121                                              & 108                                                & 135                                                & 23382                                              & 8165                                               & 214                                                & 10218                                             \\\\\n",
       "\t ACTGTAG\\_MIR139                                   & 121536                                             & 55122                                              & 287                                                & 8905                                               & 26985                                              & 334                                                & 57561                                              & 491                                                & 546                                                & 6310                                               & 26053                                             \\\\\n",
       "\t ACTGTGA\\_MIR27A\\_MIR27B                            & 19                                                   & 23457                                                & 26027                                                & 90                                                   & 92                                                   & 8728                                                 & 81794                                                & 109                                                  & 112                                                  & 136                                                  & 60312                                               \\\\\n",
       "\t AFP1\\_Q6                                          & 57505                                              & 3983                                               & 91                                                 & 4185                                               & 3899                                               & 178                                                & 23243                                              & 51239                                              & 56899                                              & 397                                                & 403                                               \\\\\n",
       "\t AGGCACT\\_MIR5153P                                 & 23365                                              & 25820                                              & 10123                                              & 9031                                               & 11176                                              & 54880                                              & 23299                                              & 22903                                              & NA                                                 & 399947                                             & NA                                                \\\\\n",
       "\t AGGTGCA\\_MIR500                                   & 10257                                              & 57188                                              & 88455                                              & 51062                                              & 283358                                             & 121551                                             & NA                                                 & 90355                                              & 56934                                              & 782                                                & 814                                               \\\\\n",
       "\\end{tabular}\n"
      ],
      "text/markdown": [
       "\n",
       "V1 | V2 | V3 | V4 | V5 | V6 | V7 | V8 | V9 | V10 | V11 | V12 | \n",
       "|---|---|---|---|---|---|---|---|---|---|\n",
       "| ACEVEDO_LIVER_CANCER_WITH_H3K9ME3_UP             | 154664                                           | 340273                                           | 26289                                            | 154810                                           | 253935                                           | 287                                              | 93663                                            | 219681                                           | 10678                                            | 168667                                           | NA                                               | \n",
       "| ACEVEDO_METHYLATED_IN_LIVER_CANCER_DN            | 144568                                           | NA                                               | 6833                                             | 28                                               | NA                                               | 2180                                             | 79611                                            | 132612                                           | 4185                                             | 2515                                             | NA                                               | \n",
       "| ACEVEDO_NORMAL_TISSUE_ADJACENT_TO_LIVER_TUMOR_DN | 16                                               | 1244                                             | 55347                                            | 84836                                            | 57406                                            | 36                                               | 39                                               | 71                                               | 127                                              | 130                                              | 55256                                            | \n",
       "| ACTGCAG_MIR173P                                  | 31                                               | 10121                                            | 57182                                            | 196528                                           | 25852                                            | 63035                                            | 254065                                           | 689                                              | NA                                               | 93589                                            | 817                                              | \n",
       "| ACTGCCT_MIR34B                                   | 4363                                             | 31                                               | 2180                                             | 86                                               | 10121                                            | 108                                              | 135                                              | 23382                                            | 8165                                             | 214                                              | 10218                                            | \n",
       "| ACTGTAG_MIR139                                   | 121536                                           | 55122                                            | 287                                              | 8905                                             | 26985                                            | 334                                              | 57561                                            | 491                                              | 546                                              | 6310                                             | 26053                                            | \n",
       "| ACTGTGA_MIR27A_MIR27B                            | 19                                               | 23457                                            | 26027                                            | 90                                               | 92                                               | 8728                                             | 81794                                            | 109                                              | 112                                              | 136                                              | 60312                                            | \n",
       "| AFP1_Q6                                          | 57505                                            | 3983                                             | 91                                               | 4185                                             | 3899                                             | 178                                              | 23243                                            | 51239                                            | 56899                                            | 397                                              | 403                                              | \n",
       "| AGGCACT_MIR5153P                                 | 23365                                            | 25820                                            | 10123                                            | 9031                                             | 11176                                            | 54880                                            | 23299                                            | 22903                                            | NA                                               | 399947                                           | NA                                               | \n",
       "| AGGTGCA_MIR500                                   | 10257                                            | 57188                                            | 88455                                            | 51062                                            | 283358                                           | 121551                                           | NA                                               | 90355                                            | 56934                                            | 782                                              | 814                                              | \n",
       "\n",
       "\n"
      ],
      "text/plain": [
       "   V1                                               V2     V3     V4    V5    \n",
       "1  ACEVEDO_LIVER_CANCER_WITH_H3K9ME3_UP             154664 340273 26289 154810\n",
       "2  ACEVEDO_METHYLATED_IN_LIVER_CANCER_DN            144568 NA     6833  28    \n",
       "3  ACEVEDO_NORMAL_TISSUE_ADJACENT_TO_LIVER_TUMOR_DN 16     1244   55347 84836 \n",
       "4  ACTGCAG_MIR173P                                  31     10121  57182 196528\n",
       "5  ACTGCCT_MIR34B                                   4363   31     2180  86    \n",
       "6  ACTGTAG_MIR139                                   121536 55122  287   8905  \n",
       "7  ACTGTGA_MIR27A_MIR27B                            19     23457  26027 90    \n",
       "8  AFP1_Q6                                          57505  3983   91    4185  \n",
       "9  AGGCACT_MIR5153P                                 23365  25820  10123 9031  \n",
       "10 AGGTGCA_MIR500                                   10257  57188  88455 51062 \n",
       "   V6     V7     V8     V9     V10   V11    V12  \n",
       "1  253935 287    93663  219681 10678 168667 NA   \n",
       "2  NA     2180   79611  132612 4185  2515   NA   \n",
       "3  57406  36     39     71     127   130    55256\n",
       "4  25852  63035  254065 689    NA    93589  817  \n",
       "5  10121  108    135    23382  8165  214    10218\n",
       "6  26985  334    57561  491    546   6310   26053\n",
       "7  92     8728   81794  109    112   136    60312\n",
       "8  3899   178    23243  51239  56899 397    403  \n",
       "9  11176  54880  23299  22903  NA    399947 NA   \n",
       "10 283358 121551 NA     90355  56934 782    814  "
      ]
     },
     "metadata": {},
     "output_type": "display_data"
    }
   ],
   "source": [
    "library(forcats)\n",
    "new_df=df\n",
    "new_df[-1] <- lapply(new_df[-1], function(x) lvls_revalue(factor(x, levels = test$hgnc_symbol),\n",
    "                                                           test$ncbi_gene_id))\n",
    "new_df"
   ]
  }
 ],
 "metadata": {
  "kernelspec": {
   "display_name": "R",
   "language": "R",
   "name": "ir"
  },
  "language_info": {
   "codemirror_mode": "r",
   "file_extension": ".r",
   "mimetype": "text/x-r-source",
   "name": "R",
   "pygments_lexer": "r",
   "version": "3.4.4"
  }
 },
 "nbformat": 4,
 "nbformat_minor": 2
}
