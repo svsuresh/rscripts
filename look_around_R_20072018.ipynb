{
 "cells": [
  {
   "cell_type": "code",
   "execution_count": 1,
   "metadata": {},
   "outputs": [],
   "source": [
    "beta <- intToUtf8(0x03B2)"
   ]
  },
  {
   "cell_type": "code",
   "execution_count": 2,
   "metadata": {},
   "outputs": [],
   "source": [
    "gamma=intToUtf8(0x03B3)"
   ]
  },
  {
   "cell_type": "code",
   "execution_count": 3,
   "metadata": {},
   "outputs": [],
   "source": [
    "mu=intToUtf8(0x03BC)"
   ]
  },
  {
   "cell_type": "code",
   "execution_count": 4,
   "metadata": {},
   "outputs": [],
   "source": [
    "phi=intToUtf8(0x03D5)"
   ]
  },
  {
   "cell_type": "code",
   "execution_count": 5,
   "metadata": {},
   "outputs": [
    {
     "name": "stdout",
     "output_type": "stream",
     "text": [
      "[1] \"β\" \"γ\" \"μ\" \"ϕ\"\n"
     ]
    }
   ],
   "source": [
    "print(c(beta,gamma,mu,phi))"
   ]
  },
  {
   "cell_type": "code",
   "execution_count": 6,
   "metadata": {},
   "outputs": [],
   "source": [
    "test=paste0(beta,\"gene\",gamma,\"protein\", beta, \"me\",beta,phi)"
   ]
  },
  {
   "cell_type": "code",
   "execution_count": 7,
   "metadata": {},
   "outputs": [
    {
     "data": {
      "text/html": [
       "'βgeneγproteinβmeβϕ'"
      ],
      "text/latex": [
       "'βgeneγproteinβmeβϕ'"
      ],
      "text/markdown": [
       "'βgeneγproteinβmeβϕ'"
      ],
      "text/plain": [
       "[1] \"βgeneγproteinβmeβϕ\""
      ]
     },
     "metadata": {},
     "output_type": "display_data"
    }
   ],
   "source": [
    "test"
   ]
  },
  {
   "cell_type": "code",
   "execution_count": 8,
   "metadata": {},
   "outputs": [],
   "source": [
    "library(stringr)"
   ]
  },
  {
   "cell_type": "code",
   "execution_count": 9,
   "metadata": {},
   "outputs": [
    {
     "data": {
      "text/html": [
       "<ol>\n",
       "\t<li><ol class=list-inline>\n",
       "\t<li>'βgen'</li>\n",
       "\t<li>'protei'</li>\n",
       "\t<li>'m'</li>\n",
       "\t<li>'ϕ'</li>\n",
       "</ol>\n",
       "</li>\n",
       "</ol>\n"
      ],
      "text/latex": [
       "\\begin{enumerate}\n",
       "\\item \\begin{enumerate*}\n",
       "\\item 'βgen'\n",
       "\\item 'protei'\n",
       "\\item 'm'\n",
       "\\item 'ϕ'\n",
       "\\end{enumerate*}\n",
       "\n",
       "\\end{enumerate}\n"
      ],
      "text/markdown": [
       "1. 1. 'βgen'\n",
       "2. 'protei'\n",
       "3. 'm'\n",
       "4. 'ϕ'\n",
       "\n",
       "\n",
       "\n",
       "\n",
       "\n"
      ],
      "text/plain": [
       "[[1]]\n",
       "[1] \"βgen\"   \"protei\" \"m\"      \"ϕ\"     \n"
      ]
     },
     "metadata": {},
     "output_type": "display_data"
    }
   ],
   "source": [
    "strsplit(test,\".\\\\W(?=.)\", perl = T)"
   ]
  },
  {
   "cell_type": "code",
   "execution_count": 10,
   "metadata": {},
   "outputs": [
    {
     "data": {
      "text/html": [
       "<ol>\n",
       "\t<li><ol class=list-inline>\n",
       "\t<li>'β'</li>\n",
       "\t<li>'gene'</li>\n",
       "\t<li>'γ'</li>\n",
       "\t<li>'protein'</li>\n",
       "\t<li>'β'</li>\n",
       "\t<li>'me'</li>\n",
       "\t<li>'β'</li>\n",
       "\t<li>'ϕ'</li>\n",
       "</ol>\n",
       "</li>\n",
       "</ol>\n"
      ],
      "text/latex": [
       "\\begin{enumerate}\n",
       "\\item \\begin{enumerate*}\n",
       "\\item 'β'\n",
       "\\item 'gene'\n",
       "\\item 'γ'\n",
       "\\item 'protein'\n",
       "\\item 'β'\n",
       "\\item 'me'\n",
       "\\item 'β'\n",
       "\\item 'ϕ'\n",
       "\\end{enumerate*}\n",
       "\n",
       "\\end{enumerate}\n"
      ],
      "text/markdown": [
       "1. 1. 'β'\n",
       "2. 'gene'\n",
       "3. 'γ'\n",
       "4. 'protein'\n",
       "5. 'β'\n",
       "6. 'me'\n",
       "7. 'β'\n",
       "8. 'ϕ'\n",
       "\n",
       "\n",
       "\n",
       "\n",
       "\n"
      ],
      "text/plain": [
       "[[1]]\n",
       "[1] \"β\"       \"gene\"    \"γ\"       \"protein\" \"β\"       \"me\"      \"β\"      \n",
       "[8] \"ϕ\"      \n"
      ]
     },
     "metadata": {},
     "output_type": "display_data"
    }
   ],
   "source": [
    "strsplit(test,\"(?<=\\\\W)(?=\\\\w)|(?<=\\\\w)(?=\\\\W)|(?<=\\\\W)(?=\\\\W)\", perl = T)"
   ]
  }
 ],
 "metadata": {
  "kernelspec": {
   "display_name": "R",
   "language": "R",
   "name": "ir"
  },
  "language_info": {
   "codemirror_mode": "r",
   "file_extension": ".r",
   "mimetype": "text/x-r-source",
   "name": "R",
   "pygments_lexer": "r",
   "version": "3.4.4"
  }
 },
 "nbformat": 4,
 "nbformat_minor": 2
}
